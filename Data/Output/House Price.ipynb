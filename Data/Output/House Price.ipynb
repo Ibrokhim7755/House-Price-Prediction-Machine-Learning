{
 "cells": [
  {
   "cell_type": "code",
   "execution_count": 1,
   "id": "d8c37069",
   "metadata": {},
   "outputs": [],
   "source": [
    "import pandas as pd \n",
    "import numpy as np\n",
    "import matplotlib.pyplot as plt\n",
    "import seaborn as sns\n",
    "\n",
    "from sklearn.model_selection import train_test_split\n",
    "from sklearn.preprocessing import LabelEncoder\n",
    "from sklearn.preprocessing import StandardScaler\n",
    "from sklearn import metrics\n",
    "from sklearn.metrics import mean_absolute_error,mean_squared_error, r2_score\n",
    "\n",
    "from sklearn.tree import DecisionTreeRegressor\n",
    "from sklearn.ensemble import RandomForestRegressor\n",
    "from sklearn.linear_model import LinearRegression\n",
    "from sklearn import neighbors\n",
    "from xgboost import XGBRegressor\n",
    "\n",
    "\n",
    "%matplotlib inline"
   ]
  },
  {
   "cell_type": "code",
   "execution_count": 2,
   "id": "1502dda4",
   "metadata": {},
   "outputs": [
    {
     "data": {
      "text/plain": [
       "(1460, 81)"
      ]
     },
     "execution_count": 2,
     "metadata": {},
     "output_type": "execute_result"
    }
   ],
   "source": [
    "d_train = pd.read_csv('train.csv')\n",
    "d_train.shape"
   ]
  },
  {
   "cell_type": "code",
   "execution_count": 3,
   "id": "cf1cabd3",
   "metadata": {},
   "outputs": [
    {
     "data": {
      "text/html": [
       "<div>\n",
       "<style scoped>\n",
       "    .dataframe tbody tr th:only-of-type {\n",
       "        vertical-align: middle;\n",
       "    }\n",
       "\n",
       "    .dataframe tbody tr th {\n",
       "        vertical-align: top;\n",
       "    }\n",
       "\n",
       "    .dataframe thead th {\n",
       "        text-align: right;\n",
       "    }\n",
       "</style>\n",
       "<table border=\"1\" class=\"dataframe\">\n",
       "  <thead>\n",
       "    <tr style=\"text-align: right;\">\n",
       "      <th></th>\n",
       "      <th>Id</th>\n",
       "      <th>MSSubClass</th>\n",
       "      <th>MSZoning</th>\n",
       "      <th>LotFrontage</th>\n",
       "      <th>LotArea</th>\n",
       "      <th>Street</th>\n",
       "      <th>Alley</th>\n",
       "      <th>LotShape</th>\n",
       "      <th>LandContour</th>\n",
       "      <th>Utilities</th>\n",
       "      <th>...</th>\n",
       "      <th>PoolArea</th>\n",
       "      <th>PoolQC</th>\n",
       "      <th>Fence</th>\n",
       "      <th>MiscFeature</th>\n",
       "      <th>MiscVal</th>\n",
       "      <th>MoSold</th>\n",
       "      <th>YrSold</th>\n",
       "      <th>SaleType</th>\n",
       "      <th>SaleCondition</th>\n",
       "      <th>SalePrice</th>\n",
       "    </tr>\n",
       "  </thead>\n",
       "  <tbody>\n",
       "    <tr>\n",
       "      <th>0</th>\n",
       "      <td>1</td>\n",
       "      <td>60</td>\n",
       "      <td>RL</td>\n",
       "      <td>65.0</td>\n",
       "      <td>8450</td>\n",
       "      <td>Pave</td>\n",
       "      <td>NaN</td>\n",
       "      <td>Reg</td>\n",
       "      <td>Lvl</td>\n",
       "      <td>AllPub</td>\n",
       "      <td>...</td>\n",
       "      <td>0</td>\n",
       "      <td>NaN</td>\n",
       "      <td>NaN</td>\n",
       "      <td>NaN</td>\n",
       "      <td>0</td>\n",
       "      <td>2</td>\n",
       "      <td>2008</td>\n",
       "      <td>WD</td>\n",
       "      <td>Normal</td>\n",
       "      <td>208500</td>\n",
       "    </tr>\n",
       "    <tr>\n",
       "      <th>1</th>\n",
       "      <td>2</td>\n",
       "      <td>20</td>\n",
       "      <td>RL</td>\n",
       "      <td>80.0</td>\n",
       "      <td>9600</td>\n",
       "      <td>Pave</td>\n",
       "      <td>NaN</td>\n",
       "      <td>Reg</td>\n",
       "      <td>Lvl</td>\n",
       "      <td>AllPub</td>\n",
       "      <td>...</td>\n",
       "      <td>0</td>\n",
       "      <td>NaN</td>\n",
       "      <td>NaN</td>\n",
       "      <td>NaN</td>\n",
       "      <td>0</td>\n",
       "      <td>5</td>\n",
       "      <td>2007</td>\n",
       "      <td>WD</td>\n",
       "      <td>Normal</td>\n",
       "      <td>181500</td>\n",
       "    </tr>\n",
       "    <tr>\n",
       "      <th>2</th>\n",
       "      <td>3</td>\n",
       "      <td>60</td>\n",
       "      <td>RL</td>\n",
       "      <td>68.0</td>\n",
       "      <td>11250</td>\n",
       "      <td>Pave</td>\n",
       "      <td>NaN</td>\n",
       "      <td>IR1</td>\n",
       "      <td>Lvl</td>\n",
       "      <td>AllPub</td>\n",
       "      <td>...</td>\n",
       "      <td>0</td>\n",
       "      <td>NaN</td>\n",
       "      <td>NaN</td>\n",
       "      <td>NaN</td>\n",
       "      <td>0</td>\n",
       "      <td>9</td>\n",
       "      <td>2008</td>\n",
       "      <td>WD</td>\n",
       "      <td>Normal</td>\n",
       "      <td>223500</td>\n",
       "    </tr>\n",
       "    <tr>\n",
       "      <th>3</th>\n",
       "      <td>4</td>\n",
       "      <td>70</td>\n",
       "      <td>RL</td>\n",
       "      <td>60.0</td>\n",
       "      <td>9550</td>\n",
       "      <td>Pave</td>\n",
       "      <td>NaN</td>\n",
       "      <td>IR1</td>\n",
       "      <td>Lvl</td>\n",
       "      <td>AllPub</td>\n",
       "      <td>...</td>\n",
       "      <td>0</td>\n",
       "      <td>NaN</td>\n",
       "      <td>NaN</td>\n",
       "      <td>NaN</td>\n",
       "      <td>0</td>\n",
       "      <td>2</td>\n",
       "      <td>2006</td>\n",
       "      <td>WD</td>\n",
       "      <td>Abnorml</td>\n",
       "      <td>140000</td>\n",
       "    </tr>\n",
       "    <tr>\n",
       "      <th>4</th>\n",
       "      <td>5</td>\n",
       "      <td>60</td>\n",
       "      <td>RL</td>\n",
       "      <td>84.0</td>\n",
       "      <td>14260</td>\n",
       "      <td>Pave</td>\n",
       "      <td>NaN</td>\n",
       "      <td>IR1</td>\n",
       "      <td>Lvl</td>\n",
       "      <td>AllPub</td>\n",
       "      <td>...</td>\n",
       "      <td>0</td>\n",
       "      <td>NaN</td>\n",
       "      <td>NaN</td>\n",
       "      <td>NaN</td>\n",
       "      <td>0</td>\n",
       "      <td>12</td>\n",
       "      <td>2008</td>\n",
       "      <td>WD</td>\n",
       "      <td>Normal</td>\n",
       "      <td>250000</td>\n",
       "    </tr>\n",
       "  </tbody>\n",
       "</table>\n",
       "<p>5 rows × 81 columns</p>\n",
       "</div>"
      ],
      "text/plain": [
       "   Id  MSSubClass MSZoning  LotFrontage  LotArea Street Alley LotShape  \\\n",
       "0   1          60       RL         65.0     8450   Pave   NaN      Reg   \n",
       "1   2          20       RL         80.0     9600   Pave   NaN      Reg   \n",
       "2   3          60       RL         68.0    11250   Pave   NaN      IR1   \n",
       "3   4          70       RL         60.0     9550   Pave   NaN      IR1   \n",
       "4   5          60       RL         84.0    14260   Pave   NaN      IR1   \n",
       "\n",
       "  LandContour Utilities  ... PoolArea PoolQC Fence MiscFeature MiscVal MoSold  \\\n",
       "0         Lvl    AllPub  ...        0    NaN   NaN         NaN       0      2   \n",
       "1         Lvl    AllPub  ...        0    NaN   NaN         NaN       0      5   \n",
       "2         Lvl    AllPub  ...        0    NaN   NaN         NaN       0      9   \n",
       "3         Lvl    AllPub  ...        0    NaN   NaN         NaN       0      2   \n",
       "4         Lvl    AllPub  ...        0    NaN   NaN         NaN       0     12   \n",
       "\n",
       "  YrSold  SaleType  SaleCondition  SalePrice  \n",
       "0   2008        WD         Normal     208500  \n",
       "1   2007        WD         Normal     181500  \n",
       "2   2008        WD         Normal     223500  \n",
       "3   2006        WD        Abnorml     140000  \n",
       "4   2008        WD         Normal     250000  \n",
       "\n",
       "[5 rows x 81 columns]"
      ]
     },
     "execution_count": 3,
     "metadata": {},
     "output_type": "execute_result"
    }
   ],
   "source": [
    "d_train.head()"
   ]
  },
  {
   "cell_type": "code",
   "execution_count": 4,
   "id": "97dcc93f",
   "metadata": {},
   "outputs": [
    {
     "name": "stdout",
     "output_type": "stream",
     "text": [
      "<class 'pandas.core.frame.DataFrame'>\n",
      "RangeIndex: 1460 entries, 0 to 1459\n",
      "Data columns (total 81 columns):\n",
      " #   Column         Non-Null Count  Dtype  \n",
      "---  ------         --------------  -----  \n",
      " 0   Id             1460 non-null   int64  \n",
      " 1   MSSubClass     1460 non-null   int64  \n",
      " 2   MSZoning       1460 non-null   object \n",
      " 3   LotFrontage    1201 non-null   float64\n",
      " 4   LotArea        1460 non-null   int64  \n",
      " 5   Street         1460 non-null   object \n",
      " 6   Alley          91 non-null     object \n",
      " 7   LotShape       1460 non-null   object \n",
      " 8   LandContour    1460 non-null   object \n",
      " 9   Utilities      1460 non-null   object \n",
      " 10  LotConfig      1460 non-null   object \n",
      " 11  LandSlope      1460 non-null   object \n",
      " 12  Neighborhood   1460 non-null   object \n",
      " 13  Condition1     1460 non-null   object \n",
      " 14  Condition2     1460 non-null   object \n",
      " 15  BldgType       1460 non-null   object \n",
      " 16  HouseStyle     1460 non-null   object \n",
      " 17  OverallQual    1460 non-null   int64  \n",
      " 18  OverallCond    1460 non-null   int64  \n",
      " 19  YearBuilt      1460 non-null   int64  \n",
      " 20  YearRemodAdd   1460 non-null   int64  \n",
      " 21  RoofStyle      1460 non-null   object \n",
      " 22  RoofMatl       1460 non-null   object \n",
      " 23  Exterior1st    1460 non-null   object \n",
      " 24  Exterior2nd    1460 non-null   object \n",
      " 25  MasVnrType     1452 non-null   object \n",
      " 26  MasVnrArea     1452 non-null   float64\n",
      " 27  ExterQual      1460 non-null   object \n",
      " 28  ExterCond      1460 non-null   object \n",
      " 29  Foundation     1460 non-null   object \n",
      " 30  BsmtQual       1423 non-null   object \n",
      " 31  BsmtCond       1423 non-null   object \n",
      " 32  BsmtExposure   1422 non-null   object \n",
      " 33  BsmtFinType1   1423 non-null   object \n",
      " 34  BsmtFinSF1     1460 non-null   int64  \n",
      " 35  BsmtFinType2   1422 non-null   object \n",
      " 36  BsmtFinSF2     1460 non-null   int64  \n",
      " 37  BsmtUnfSF      1460 non-null   int64  \n",
      " 38  TotalBsmtSF    1460 non-null   int64  \n",
      " 39  Heating        1460 non-null   object \n",
      " 40  HeatingQC      1460 non-null   object \n",
      " 41  CentralAir     1460 non-null   object \n",
      " 42  Electrical     1459 non-null   object \n",
      " 43  1stFlrSF       1460 non-null   int64  \n",
      " 44  2ndFlrSF       1460 non-null   int64  \n",
      " 45  LowQualFinSF   1460 non-null   int64  \n",
      " 46  GrLivArea      1460 non-null   int64  \n",
      " 47  BsmtFullBath   1460 non-null   int64  \n",
      " 48  BsmtHalfBath   1460 non-null   int64  \n",
      " 49  FullBath       1460 non-null   int64  \n",
      " 50  HalfBath       1460 non-null   int64  \n",
      " 51  BedroomAbvGr   1460 non-null   int64  \n",
      " 52  KitchenAbvGr   1460 non-null   int64  \n",
      " 53  KitchenQual    1460 non-null   object \n",
      " 54  TotRmsAbvGrd   1460 non-null   int64  \n",
      " 55  Functional     1460 non-null   object \n",
      " 56  Fireplaces     1460 non-null   int64  \n",
      " 57  FireplaceQu    770 non-null    object \n",
      " 58  GarageType     1379 non-null   object \n",
      " 59  GarageYrBlt    1379 non-null   float64\n",
      " 60  GarageFinish   1379 non-null   object \n",
      " 61  GarageCars     1460 non-null   int64  \n",
      " 62  GarageArea     1460 non-null   int64  \n",
      " 63  GarageQual     1379 non-null   object \n",
      " 64  GarageCond     1379 non-null   object \n",
      " 65  PavedDrive     1460 non-null   object \n",
      " 66  WoodDeckSF     1460 non-null   int64  \n",
      " 67  OpenPorchSF    1460 non-null   int64  \n",
      " 68  EnclosedPorch  1460 non-null   int64  \n",
      " 69  3SsnPorch      1460 non-null   int64  \n",
      " 70  ScreenPorch    1460 non-null   int64  \n",
      " 71  PoolArea       1460 non-null   int64  \n",
      " 72  PoolQC         7 non-null      object \n",
      " 73  Fence          281 non-null    object \n",
      " 74  MiscFeature    54 non-null     object \n",
      " 75  MiscVal        1460 non-null   int64  \n",
      " 76  MoSold         1460 non-null   int64  \n",
      " 77  YrSold         1460 non-null   int64  \n",
      " 78  SaleType       1460 non-null   object \n",
      " 79  SaleCondition  1460 non-null   object \n",
      " 80  SalePrice      1460 non-null   int64  \n",
      "dtypes: float64(3), int64(35), object(43)\n",
      "memory usage: 924.0+ KB\n"
     ]
    }
   ],
   "source": [
    "# Observing the data\n",
    "\n",
    "d_train.info()"
   ]
  },
  {
   "cell_type": "code",
   "execution_count": 5,
   "id": "ce25debd",
   "metadata": {},
   "outputs": [
    {
     "data": {
      "text/plain": [
       "PoolQC          1453\n",
       "MiscFeature     1406\n",
       "Alley           1369\n",
       "Fence           1179\n",
       "FireplaceQu      690\n",
       "LotFrontage      259\n",
       "GarageYrBlt       81\n",
       "GarageCond        81\n",
       "GarageType        81\n",
       "GarageFinish      81\n",
       "GarageQual        81\n",
       "BsmtFinType2      38\n",
       "BsmtExposure      38\n",
       "BsmtQual          37\n",
       "BsmtCond          37\n",
       "BsmtFinType1      37\n",
       "MasVnrArea         8\n",
       "MasVnrType         8\n",
       "Electrical         1\n",
       "Id                 0\n",
       "dtype: int64"
      ]
     },
     "execution_count": 5,
     "metadata": {},
     "output_type": "execute_result"
    }
   ],
   "source": [
    "# Finding out the null values\n",
    "\n",
    "d_train.isna().sum().sort_values(ascending=False).head(20)"
   ]
  },
  {
   "cell_type": "code",
   "execution_count": 6,
   "id": "a516b99a",
   "metadata": {},
   "outputs": [
    {
     "data": {
      "text/plain": [
       "6965"
      ]
     },
     "execution_count": 6,
     "metadata": {},
     "output_type": "execute_result"
    }
   ],
   "source": [
    "df= d_train.isna().sum().sum()# total missing values\n",
    "df"
   ]
  },
  {
   "cell_type": "code",
   "execution_count": 7,
   "id": "294c9ac2",
   "metadata": {},
   "outputs": [
    {
     "data": {
      "text/plain": [
       "20.96195262024408"
      ]
     },
     "execution_count": 7,
     "metadata": {},
     "output_type": "execute_result"
    }
   ],
   "source": [
    "len(d_train)/ df *100 # total missing values in percentages"
   ]
  },
  {
   "cell_type": "code",
   "execution_count": 8,
   "id": "e6e40da9",
   "metadata": {},
   "outputs": [
    {
     "data": {
      "text/plain": [
       "<AxesSubplot:>"
      ]
     },
     "execution_count": 8,
     "metadata": {},
     "output_type": "execute_result"
    },
    {
     "data": {
      "image/png": "[encoded data removed]",
      "text/plain": [
       "<Figure size 1080x576 with 2 Axes>"
      ]
     },
     "metadata": {
      "needs_background": "light"
     },
     "output_type": "display_data"
    }
   ],
   "source": [
    "# Visualizing missing values in a dataset\n",
    "\n",
    "plt.figure(figsize=(15,8))\n",
    "sns.heatmap(d_train.isna(),cmap='Paired')"
   ]
  },
  {
   "cell_type": "markdown",
   "id": "5b7d5589",
   "metadata": {},
   "source": [
    "# Dealing with missed values"
   ]
  },
  {
   "cell_type": "markdown",
   "id": "9e734360",
   "metadata": {},
   "source": [
    "**Filling the columns below with None values**"
   ]
  },
  {
   "cell_type": "code",
   "execution_count": 9,
   "id": "611f6785",
   "metadata": {},
   "outputs": [],
   "source": [
    "d_train['PoolQC']= d_train['PoolQC'].fillna('None')\n",
    "d_train['MiscFeature']= d_train['MiscFeature'].fillna('None')\n",
    "d_train['Alley']= d_train['Alley'].fillna('None')\n",
    "d_train['Fence']= d_train['Fence'].fillna('None')\n",
    "d_train['FireplaceQu']= d_train['FireplaceQu'].fillna('None')"
   ]
  },
  {
   "cell_type": "code",
   "execution_count": 10,
   "id": "3f729691",
   "metadata": {},
   "outputs": [],
   "source": [
    "# Impute \"LotFrotage\" column with its mean values\n",
    "\n",
    "d_train['LotFrontage'] = d_train['LotFrontage'].fillna(d_train['LotFrontage'].mean())"
   ]
  },
  {
   "cell_type": "code",
   "execution_count": 11,
   "id": "1eb218ba",
   "metadata": {},
   "outputs": [],
   "source": [
    "# Filling these columns with zero values\n",
    "\n",
    "d_train['GarageYrBlt']= d_train['GarageYrBlt'].fillna(0)\n",
    "d_train['MasVnrArea']= d_train['MasVnrArea'].fillna(0)"
   ]
  },
  {
   "cell_type": "code",
   "execution_count": 12,
   "id": "d23e67c8",
   "metadata": {},
   "outputs": [],
   "source": [
    "# Filling the missing data with most_frequent values\n",
    "\n",
    "d_train['GarageCond'] = d_train['GarageCond'].fillna(d_train['GarageCond'].value_counts().idxmax())\n",
    "d_train['GarageType'] = d_train['GarageType'].fillna(d_train['GarageType'].value_counts().idxmax())\n",
    "d_train['GarageFinish'] = d_train['GarageFinish'].fillna(d_train['GarageFinish'].value_counts().idxmax())\n",
    "d_train['GarageQual'] = d_train['GarageQual'].fillna(d_train['GarageQual'].value_counts().idxmax())\n",
    "d_train['BsmtFinType2'] = d_train['BsmtFinType2'].fillna(d_train['BsmtFinType2'].value_counts().idxmax())\n",
    "d_train['BsmtExposure'] = d_train['BsmtExposure'].fillna(d_train['BsmtExposure'].value_counts().idxmax())\n",
    "d_train['BsmtQual'] = d_train['BsmtQual'].fillna(d_train['BsmtQual'].value_counts().idxmax())\n",
    "d_train['BsmtCond'] = d_train['BsmtCond'].fillna(d_train['BsmtCond'].value_counts().idxmax())\n",
    "d_train['BsmtFinType1'] = d_train['BsmtFinType1'].fillna(d_train['BsmtFinType1'].value_counts().idxmax())\n",
    "d_train['MasVnrType'] = d_train['MasVnrType'].fillna(d_train['MasVnrType'].value_counts().idxmax())\n",
    "d_train['Electrical'] = d_train['Electrical'].fillna(d_train['Electrical'].value_counts().idxmax())"
   ]
  },
  {
   "cell_type": "code",
   "execution_count": 13,
   "id": "89b0b95f",
   "metadata": {},
   "outputs": [
    {
     "data": {
      "text/plain": [
       "Id              0\n",
       "CentralAir      0\n",
       "GarageYrBlt     0\n",
       "GarageType      0\n",
       "FireplaceQu     0\n",
       "Fireplaces      0\n",
       "Functional      0\n",
       "TotRmsAbvGrd    0\n",
       "KitchenQual     0\n",
       "KitchenAbvGr    0\n",
       "BedroomAbvGr    0\n",
       "HalfBath        0\n",
       "FullBath        0\n",
       "BsmtHalfBath    0\n",
       "BsmtFullBath    0\n",
       "GrLivArea       0\n",
       "LowQualFinSF    0\n",
       "2ndFlrSF        0\n",
       "1stFlrSF        0\n",
       "GarageFinish    0\n",
       "dtype: int64"
      ]
     },
     "execution_count": 13,
     "metadata": {},
     "output_type": "execute_result"
    }
   ],
   "source": [
    "# Lets check if we have any missed values left\n",
    "\n",
    "d_train.isna().sum().sort_values(ascending=False).head(20)"
   ]
  },
  {
   "cell_type": "markdown",
   "id": "0f010728",
   "metadata": {},
   "source": [
    "**So we cleaned our dataset with zero null vales left** \n"
   ]
  },
  {
   "cell_type": "code",
   "execution_count": 14,
   "id": "5983ecd7",
   "metadata": {},
   "outputs": [
    {
     "data": {
      "text/plain": [
       "(1460, 81)"
      ]
     },
     "execution_count": 14,
     "metadata": {},
     "output_type": "execute_result"
    }
   ],
   "source": [
    "d_train.shape"
   ]
  },
  {
   "cell_type": "code",
   "execution_count": 15,
   "id": "11944b87",
   "metadata": {
    "scrolled": true
   },
   "outputs": [
    {
     "data": {
      "text/plain": [
       "SalePrice        1.000000\n",
       "OverallQual      0.790982\n",
       "GrLivArea        0.708624\n",
       "GarageCars       0.640409\n",
       "GarageArea       0.623431\n",
       "TotalBsmtSF      0.613581\n",
       "1stFlrSF         0.605852\n",
       "FullBath         0.560664\n",
       "TotRmsAbvGrd     0.533723\n",
       "YearBuilt        0.522897\n",
       "YearRemodAdd     0.507101\n",
       "MasVnrArea       0.472614\n",
       "Fireplaces       0.466929\n",
       "BsmtFinSF1       0.386420\n",
       "LotFrontage      0.334901\n",
       "WoodDeckSF       0.324413\n",
       "2ndFlrSF         0.319334\n",
       "OpenPorchSF      0.315856\n",
       "HalfBath         0.284108\n",
       "LotArea          0.263843\n",
       "GarageYrBlt      0.261366\n",
       "BsmtFullBath     0.227122\n",
       "BsmtUnfSF        0.214479\n",
       "BedroomAbvGr     0.168213\n",
       "ScreenPorch      0.111447\n",
       "PoolArea         0.092404\n",
       "MoSold           0.046432\n",
       "3SsnPorch        0.044584\n",
       "BsmtFinSF2      -0.011378\n",
       "BsmtHalfBath    -0.016844\n",
       "MiscVal         -0.021190\n",
       "Id              -0.021917\n",
       "LowQualFinSF    -0.025606\n",
       "YrSold          -0.028923\n",
       "OverallCond     -0.077856\n",
       "MSSubClass      -0.084284\n",
       "EnclosedPorch   -0.128578\n",
       "KitchenAbvGr    -0.135907\n",
       "Name: SalePrice, dtype: float64"
      ]
     },
     "execution_count": 15,
     "metadata": {},
     "output_type": "execute_result"
    }
   ],
   "source": [
    "# Defining how required variables correlate to our target variable\n",
    "\n",
    "corr = d_train.corr()\n",
    "corr.sort_values(['SalePrice'], ascending=False, inplace=True)\n",
    "corr.SalePrice"
   ]
  },
  {
   "cell_type": "code",
   "execution_count": 16,
   "id": "4165c994",
   "metadata": {},
   "outputs": [
    {
     "name": "stdout",
     "output_type": "stream",
     "text": [
      "Requirement already satisfied: autoviz in c:\\users\\ibroh\\anaconda3\\lib\\site-packages (0.1.43)\n",
      "Requirement already satisfied: scikit-learn in c:\\users\\ibroh\\anaconda3\\lib\\site-packages (from autoviz) (1.0.2)\n",
      "Requirement already satisfied: xgboost>=0.82 in c:\\users\\ibroh\\anaconda3\\lib\\site-packages (from autoviz) (1.6.2)\n",
      "Requirement already satisfied: typing-extensions>=4.1.1 in c:\\users\\ibroh\\anaconda3\\lib\\site-packages (from autoviz) (4.1.1)\n",
      "Requirement already satisfied: jupyter in c:\\users\\ibroh\\anaconda3\\lib\\site-packages (from autoviz) (1.0.0)\n",
      "Requirement already satisfied: wordcloud in c:\\users\\ibroh\\anaconda3\\lib\\site-packages (from autoviz) (1.8.2.2)\n",
      "Requirement already satisfied: pyamg in c:\\users\\ibroh\\anaconda3\\lib\\site-packages (from autoviz) (4.2.3)\n",
      "Requirement already satisfied: pandas in c:\\users\\ibroh\\anaconda3\\lib\\site-packages (from autoviz) (1.4.2)\n",
      "Requirement already satisfied: fsspec>=0.8.3 in c:\\users\\ibroh\\anaconda3\\lib\\site-packages (from autoviz) (2022.2.0)\n",
      "Requirement already satisfied: textblob in c:\\users\\ibroh\\anaconda3\\lib\\site-packages (from autoviz) (0.17.1)\n",
      "Requirement already satisfied: xlrd in c:\\users\\ibroh\\anaconda3\\lib\\site-packages (from autoviz) (2.0.1)\n",
      "Requirement already satisfied: holoviews>=1.14.6 in c:\\users\\ibroh\\anaconda3\\lib\\site-packages (from autoviz) (1.14.8)\n",
      "Requirement already satisfied: nltk in c:\\users\\ibroh\\anaconda3\\lib\\site-packages (from autoviz) (3.7)\n",
      "Requirement already satisfied: emoji in c:\\users\\ibroh\\anaconda3\\lib\\site-packages (from autoviz) (2.0.0)\n",
      "Requirement already satisfied: matplotlib>=3.3.3 in c:\\users\\ibroh\\anaconda3\\lib\\site-packages (from autoviz) (3.5.1)\n",
      "Requirement already satisfied: numpy in c:\\users\\ibroh\\anaconda3\\lib\\site-packages (from autoviz) (1.21.5)\n",
      "Requirement already satisfied: seaborn>=0.11.1 in c:\\users\\ibroh\\anaconda3\\lib\\site-packages (from autoviz) (0.11.2)\n",
      "Requirement already satisfied: statsmodels in c:\\users\\ibroh\\anaconda3\\lib\\site-packages (from autoviz) (0.13.2)\n",
      "Requirement already satisfied: panel~=0.12.6 in c:\\users\\ibroh\\anaconda3\\lib\\site-packages (from autoviz) (0.12.7)\n",
      "Requirement already satisfied: bokeh>=2.4.2 in c:\\users\\ibroh\\anaconda3\\lib\\site-packages (from autoviz) (2.4.2)\n",
      "Requirement already satisfied: hvplot>=0.7.3 in c:\\users\\ibroh\\anaconda3\\lib\\site-packages (from autoviz) (0.7.3)\n",
      "Requirement already satisfied: ipython in c:\\users\\ibroh\\anaconda3\\lib\\site-packages (from autoviz) (8.2.0)\n",
      "Requirement already satisfied: packaging>=16.8 in c:\\users\\ibroh\\anaconda3\\lib\\site-packages (from bokeh>=2.4.2->autoviz) (21.3)\n",
      "Requirement already satisfied: pillow>=7.1.0 in c:\\users\\ibroh\\anaconda3\\lib\\site-packages (from bokeh>=2.4.2->autoviz) (9.0.1)\n",
      "Requirement already satisfied: tornado>=5.1 in c:\\users\\ibroh\\anaconda3\\lib\\site-packages (from bokeh>=2.4.2->autoviz) (6.1)\n",
      "Requirement already satisfied: PyYAML>=3.10 in c:\\users\\ibroh\\anaconda3\\lib\\site-packages (from bokeh>=2.4.2->autoviz) (6.0)\n",
      "Requirement already satisfied: Jinja2>=2.9 in c:\\users\\ibroh\\anaconda3\\lib\\site-packages (from bokeh>=2.4.2->autoviz) (2.11.3)\n",
      "Requirement already satisfied: colorcet in c:\\users\\ibroh\\anaconda3\\lib\\site-packages (from holoviews>=1.14.6->autoviz) (2.0.6)\n",
      "Requirement already satisfied: pyviz-comms>=0.7.4 in c:\\users\\ibroh\\anaconda3\\lib\\site-packages (from holoviews>=1.14.6->autoviz) (2.0.2)\n",
      "Requirement already satisfied: param<2.0,>=1.9.3 in c:\\users\\ibroh\\anaconda3\\lib\\site-packages (from holoviews>=1.14.6->autoviz) (1.12.0)\n",
      "Requirement already satisfied: pyct>=0.4.4 in c:\\users\\ibroh\\anaconda3\\lib\\site-packages (from colorcet->holoviews>=1.14.6->autoviz) (0.4.6)\n",
      "Requirement already satisfied: MarkupSafe>=0.23 in c:\\users\\ibroh\\anaconda3\\lib\\site-packages (from Jinja2>=2.9->bokeh>=2.4.2->autoviz) (2.0.1)\n",
      "Requirement already satisfied: fonttools>=4.22.0 in c:\\users\\ibroh\\anaconda3\\lib\\site-packages (from matplotlib>=3.3.3->autoviz) (4.25.0)\n",
      "Requirement already satisfied: kiwisolver>=1.0.1 in c:\\users\\ibroh\\anaconda3\\lib\\site-packages (from matplotlib>=3.3.3->autoviz) (1.3.2)\n",
      "Requirement already satisfied: cycler>=0.10 in c:\\users\\ibroh\\anaconda3\\lib\\site-packages (from matplotlib>=3.3.3->autoviz) (0.11.0)\n",
      "Requirement already satisfied: python-dateutil>=2.7 in c:\\users\\ibroh\\anaconda3\\lib\\site-packages (from matplotlib>=3.3.3->autoviz) (2.8.2)\n",
      "Requirement already satisfied: pyparsing>=2.2.1 in c:\\users\\ibroh\\anaconda3\\lib\\site-packages (from matplotlib>=3.3.3->autoviz) (3.0.4)\n",
      "Requirement already satisfied: pytz>=2020.1 in c:\\users\\ibroh\\anaconda3\\lib\\site-packages (from pandas->autoviz) (2021.3)\n",
      "Requirement already satisfied: setuptools<61,>=42 in c:\\users\\ibroh\\anaconda3\\lib\\site-packages (from panel~=0.12.6->autoviz) (60.10.0)\n",
      "Requirement already satisfied: tqdm>=4.48.0 in c:\\users\\ibroh\\anaconda3\\lib\\site-packages (from panel~=0.12.6->autoviz) (4.64.0)\n",
      "Requirement already satisfied: markdown in c:\\users\\ibroh\\anaconda3\\lib\\site-packages (from panel~=0.12.6->autoviz) (3.3.4)\n",
      "Requirement already satisfied: requests in c:\\users\\ibroh\\anaconda3\\lib\\site-packages (from panel~=0.12.6->autoviz) (2.27.1)\n",
      "Requirement already satisfied: bleach in c:\\users\\ibroh\\anaconda3\\lib\\site-packages (from panel~=0.12.6->autoviz) (4.1.0)\n",
      "Requirement already satisfied: six>=1.5 in c:\\users\\ibroh\\anaconda3\\lib\\site-packages (from python-dateutil>=2.7->matplotlib>=3.3.3->autoviz) (1.16.0)\n",
      "Requirement already satisfied: scipy>=1.0 in c:\\users\\ibroh\\anaconda3\\lib\\site-packages (from seaborn>=0.11.1->autoviz) (1.7.3)\n",
      "Requirement already satisfied: colorama in c:\\users\\ibroh\\anaconda3\\lib\\site-packages (from tqdm>=4.48.0->panel~=0.12.6->autoviz) (0.4.4)\n",
      "Requirement already satisfied: webencodings in c:\\users\\ibroh\\anaconda3\\lib\\site-packages (from bleach->panel~=0.12.6->autoviz) (0.5.1)\n",
      "Requirement already satisfied: backcall in c:\\users\\ibroh\\anaconda3\\lib\\site-packages (from ipython->autoviz) (0.2.0)\n",
      "Requirement already satisfied: pygments>=2.4.0 in c:\\users\\ibroh\\anaconda3\\lib\\site-packages (from ipython->autoviz) (2.11.2)\n",
      "Requirement already satisfied: prompt-toolkit!=3.0.0,!=3.0.1,<3.1.0,>=2.0.0 in c:\\users\\ibroh\\anaconda3\\lib\\site-packages (from ipython->autoviz) (3.0.20)\n",
      "Requirement already satisfied: traitlets>=5 in c:\\users\\ibroh\\anaconda3\\lib\\site-packages (from ipython->autoviz) (5.1.1)\n",
      "Requirement already satisfied: pickleshare in c:\\users\\ibroh\\anaconda3\\lib\\site-packages (from ipython->autoviz) (0.7.5)\n",
      "Requirement already satisfied: jedi>=0.16 in c:\\users\\ibroh\\anaconda3\\lib\\site-packages (from ipython->autoviz) (0.18.1)\n",
      "Requirement already satisfied: decorator in c:\\users\\ibroh\\anaconda3\\lib\\site-packages (from ipython->autoviz) (5.1.1)\n",
      "Requirement already satisfied: matplotlib-inline in c:\\users\\ibroh\\anaconda3\\lib\\site-packages (from ipython->autoviz) (0.1.2)\n",
      "Requirement already satisfied: stack-data in c:\\users\\ibroh\\anaconda3\\lib\\site-packages (from ipython->autoviz) (0.2.0)\n",
      "Requirement already satisfied: parso<0.9.0,>=0.8.0 in c:\\users\\ibroh\\anaconda3\\lib\\site-packages (from jedi>=0.16->ipython->autoviz) (0.8.3)\n",
      "Requirement already satisfied: wcwidth in c:\\users\\ibroh\\anaconda3\\lib\\site-packages (from prompt-toolkit!=3.0.0,!=3.0.1,<3.1.0,>=2.0.0->ipython->autoviz) (0.2.5)\n",
      "Requirement already satisfied: nbconvert in c:\\users\\ibroh\\anaconda3\\lib\\site-packages (from jupyter->autoviz) (6.4.4)\n",
      "Requirement already satisfied: ipywidgets in c:\\users\\ibroh\\anaconda3\\lib\\site-packages (from jupyter->autoviz) (7.6.5)\n",
      "Requirement already satisfied: jupyter-console in c:\\users\\ibroh\\anaconda3\\lib\\site-packages (from jupyter->autoviz) (6.4.0)\n",
      "Requirement already satisfied: ipykernel in c:\\users\\ibroh\\anaconda3\\lib\\site-packages (from jupyter->autoviz) (6.9.1)\n",
      "Requirement already satisfied: notebook in c:\\users\\ibroh\\anaconda3\\lib\\site-packages (from jupyter->autoviz) (6.4.8)\n",
      "Requirement already satisfied: qtconsole in c:\\users\\ibroh\\anaconda3\\lib\\site-packages (from jupyter->autoviz) (5.3.0)\n",
      "Requirement already satisfied: nest-asyncio in c:\\users\\ibroh\\anaconda3\\lib\\site-packages (from ipykernel->jupyter->autoviz) (1.5.5)\n",
      "Requirement already satisfied: jupyter-client<8.0 in c:\\users\\ibroh\\anaconda3\\lib\\site-packages (from ipykernel->jupyter->autoviz) (6.1.12)\n",
      "Requirement already satisfied: debugpy<2.0,>=1.0.0 in c:\\users\\ibroh\\anaconda3\\lib\\site-packages (from ipykernel->jupyter->autoviz) (1.5.1)\n",
      "Requirement already satisfied: pyzmq>=13 in c:\\users\\ibroh\\anaconda3\\lib\\site-packages (from jupyter-client<8.0->ipykernel->jupyter->autoviz) (22.3.0)\n",
      "Requirement already satisfied: jupyter-core>=4.6.0 in c:\\users\\ibroh\\anaconda3\\lib\\site-packages (from jupyter-client<8.0->ipykernel->jupyter->autoviz) (4.9.2)\n",
      "Requirement already satisfied: pywin32>=1.0 in c:\\users\\ibroh\\anaconda3\\lib\\site-packages (from jupyter-core>=4.6.0->jupyter-client<8.0->ipykernel->jupyter->autoviz) (302)\n",
      "Requirement already satisfied: ipython-genutils~=0.2.0 in c:\\users\\ibroh\\anaconda3\\lib\\site-packages (from ipywidgets->jupyter->autoviz) (0.2.0)\n",
      "Requirement already satisfied: jupyterlab-widgets>=1.0.0 in c:\\users\\ibroh\\anaconda3\\lib\\site-packages (from ipywidgets->jupyter->autoviz) (1.0.0)\n",
      "Requirement already satisfied: nbformat>=4.2.0 in c:\\users\\ibroh\\anaconda3\\lib\\site-packages (from ipywidgets->jupyter->autoviz) (5.3.0)\n",
      "Requirement already satisfied: widgetsnbextension~=3.5.0 in c:\\users\\ibroh\\anaconda3\\lib\\site-packages (from ipywidgets->jupyter->autoviz) (3.5.2)\n",
      "Requirement already satisfied: jsonschema>=2.6 in c:\\users\\ibroh\\anaconda3\\lib\\site-packages (from nbformat>=4.2.0->ipywidgets->jupyter->autoviz) (4.4.0)\n",
      "Requirement already satisfied: fastjsonschema in c:\\users\\ibroh\\anaconda3\\lib\\site-packages (from nbformat>=4.2.0->ipywidgets->jupyter->autoviz) (2.15.1)\n",
      "Requirement already satisfied: attrs>=17.4.0 in c:\\users\\ibroh\\anaconda3\\lib\\site-packages (from jsonschema>=2.6->nbformat>=4.2.0->ipywidgets->jupyter->autoviz) (21.4.0)\n",
      "Requirement already satisfied: pyrsistent!=0.17.0,!=0.17.1,!=0.17.2,>=0.14.0 in c:\\users\\ibroh\\anaconda3\\lib\\site-packages (from jsonschema>=2.6->nbformat>=4.2.0->ipywidgets->jupyter->autoviz) (0.18.0)\n",
      "Requirement already satisfied: argon2-cffi in c:\\users\\ibroh\\anaconda3\\lib\\site-packages (from notebook->jupyter->autoviz) (21.3.0)\n",
      "Requirement already satisfied: prometheus-client in c:\\users\\ibroh\\anaconda3\\lib\\site-packages (from notebook->jupyter->autoviz) (0.13.1)\n",
      "Requirement already satisfied: terminado>=0.8.3 in c:\\users\\ibroh\\anaconda3\\lib\\site-packages (from notebook->jupyter->autoviz) (0.13.1)\n",
      "Requirement already satisfied: Send2Trash>=1.8.0 in c:\\users\\ibroh\\anaconda3\\lib\\site-packages (from notebook->jupyter->autoviz) (1.8.0)\n",
      "Requirement already satisfied: pywinpty>=1.1.0 in c:\\users\\ibroh\\anaconda3\\lib\\site-packages (from terminado>=0.8.3->notebook->jupyter->autoviz) (2.0.2)\n",
      "Requirement already satisfied: argon2-cffi-bindings in c:\\users\\ibroh\\anaconda3\\lib\\site-packages (from argon2-cffi->notebook->jupyter->autoviz) (21.2.0)\n",
      "Requirement already satisfied: cffi>=1.0.1 in c:\\users\\ibroh\\anaconda3\\lib\\site-packages (from argon2-cffi-bindings->argon2-cffi->notebook->jupyter->autoviz) (1.15.0)\n",
      "Requirement already satisfied: pycparser in c:\\users\\ibroh\\anaconda3\\lib\\site-packages (from cffi>=1.0.1->argon2-cffi-bindings->argon2-cffi->notebook->jupyter->autoviz) (2.21)\n",
      "Requirement already satisfied: beautifulsoup4 in c:\\users\\ibroh\\anaconda3\\lib\\site-packages (from nbconvert->jupyter->autoviz) (4.11.1)\n",
      "Requirement already satisfied: mistune<2,>=0.8.1 in c:\\users\\ibroh\\anaconda3\\lib\\site-packages (from nbconvert->jupyter->autoviz) (0.8.4)\n",
      "Requirement already satisfied: testpath in c:\\users\\ibroh\\anaconda3\\lib\\site-packages (from nbconvert->jupyter->autoviz) (0.5.0)\n",
      "Requirement already satisfied: defusedxml in c:\\users\\ibroh\\anaconda3\\lib\\site-packages (from nbconvert->jupyter->autoviz) (0.7.1)\n",
      "Requirement already satisfied: pandocfilters>=1.4.1 in c:\\users\\ibroh\\anaconda3\\lib\\site-packages (from nbconvert->jupyter->autoviz) (1.5.0)\n",
      "Requirement already satisfied: nbclient<0.6.0,>=0.5.0 in c:\\users\\ibroh\\anaconda3\\lib\\site-packages (from nbconvert->jupyter->autoviz) (0.5.13)\n",
      "Requirement already satisfied: entrypoints>=0.2.2 in c:\\users\\ibroh\\anaconda3\\lib\\site-packages (from nbconvert->jupyter->autoviz) (0.4)\n",
      "Requirement already satisfied: jupyterlab-pygments in c:\\users\\ibroh\\anaconda3\\lib\\site-packages (from nbconvert->jupyter->autoviz) (0.1.2)\n",
      "Requirement already satisfied: soupsieve>1.2 in c:\\users\\ibroh\\anaconda3\\lib\\site-packages (from beautifulsoup4->nbconvert->jupyter->autoviz) (2.3.1)\n",
      "Requirement already satisfied: joblib in c:\\users\\ibroh\\anaconda3\\lib\\site-packages (from nltk->autoviz) (1.1.0)\n",
      "Requirement already satisfied: regex>=2021.8.3 in c:\\users\\ibroh\\anaconda3\\lib\\site-packages (from nltk->autoviz) (2022.3.15)\n",
      "Requirement already satisfied: click in c:\\users\\ibroh\\anaconda3\\lib\\site-packages (from nltk->autoviz) (8.0.4)\n",
      "Requirement already satisfied: qtpy>=2.0.1 in c:\\users\\ibroh\\anaconda3\\lib\\site-packages (from qtconsole->jupyter->autoviz) (2.0.1)\n",
      "Requirement already satisfied: charset-normalizer~=2.0.0 in c:\\users\\ibroh\\anaconda3\\lib\\site-packages (from requests->panel~=0.12.6->autoviz) (2.0.4)\n",
      "Requirement already satisfied: certifi>=2017.4.17 in c:\\users\\ibroh\\anaconda3\\lib\\site-packages (from requests->panel~=0.12.6->autoviz) (2021.10.8)\n",
      "Requirement already satisfied: idna<4,>=2.5 in c:\\users\\ibroh\\anaconda3\\lib\\site-packages (from requests->panel~=0.12.6->autoviz) (3.3)\n",
      "Requirement already satisfied: urllib3<1.27,>=1.21.1 in c:\\users\\ibroh\\anaconda3\\lib\\site-packages (from requests->panel~=0.12.6->autoviz) (1.26.9)\n",
      "Requirement already satisfied: threadpoolctl>=2.0.0 in c:\\users\\ibroh\\anaconda3\\lib\\site-packages (from scikit-learn->autoviz) (2.2.0)\n",
      "Requirement already satisfied: pure-eval in c:\\users\\ibroh\\anaconda3\\lib\\site-packages (from stack-data->ipython->autoviz) (0.2.2)\n",
      "Requirement already satisfied: asttokens in c:\\users\\ibroh\\anaconda3\\lib\\site-packages (from stack-data->ipython->autoviz) (2.0.5)\n",
      "Requirement already satisfied: executing in c:\\users\\ibroh\\anaconda3\\lib\\site-packages (from stack-data->ipython->autoviz) (0.8.3)\n",
      "Requirement already satisfied: patsy>=0.5.2 in c:\\users\\ibroh\\anaconda3\\lib\\site-packages (from statsmodels->autoviz) (0.5.2)\n",
      "Note: you may need to restart the kernel to use updated packages.\n"
     ]
    }
   ],
   "source": [
    "pip install autoviz"
   ]
  },
  {
   "cell_type": "code",
   "execution_count": 37,
   "id": "42fa7360",
   "metadata": {},
   "outputs": [],
   "source": [
    "#Visalizing our SalePrice column with all dataset columns to know how corralete to each other using avtoviz^^\n",
    "\n",
    "#from autoviz.AutoViz_Class import AutoViz_Class\n",
    "#av = AutoViz_Class()\n",
    "\n",
    "#df = av.AutoViz(filename='',\n",
    " #               sep=',',\n",
    "  #              dfte=d_train,\n",
    "   #            depVar='SalePrice',\n",
    "    #           chart_format='')"
   ]
  },
  {
   "cell_type": "markdown",
   "id": "ff95d954",
   "metadata": {},
   "source": [
    "# Label Encoding "
   ]
  },
  {
   "cell_type": "code",
   "execution_count": 18,
   "id": "bf62131d",
   "metadata": {},
   "outputs": [],
   "source": [
    "label = LabelEncoder()\n",
    "for i in d_train.columns:\n",
    "    if d_train[i].dtypes == object:\n",
    "        d_train[i]= label.fit_transform(d_train[i])"
   ]
  },
  {
   "cell_type": "markdown",
   "id": "6a540809",
   "metadata": {},
   "source": [
    "# Selecting the Features"
   ]
  },
  {
   "cell_type": "code",
   "execution_count": 19,
   "id": "9c416540",
   "metadata": {},
   "outputs": [],
   "source": [
    "X = d_train.drop('SalePrice', axis=1)\n",
    "y = d_train['SalePrice']"
   ]
  },
  {
   "cell_type": "markdown",
   "id": "075e0d65",
   "metadata": {},
   "source": [
    "# Train Test Split"
   ]
  },
  {
   "cell_type": "code",
   "execution_count": 20,
   "id": "a06835d9",
   "metadata": {},
   "outputs": [],
   "source": [
    "X_train, X_test, y_train, y_test = train_test_split(X, y, test_size=0.3, random_state=42)"
   ]
  },
  {
   "cell_type": "code",
   "execution_count": null,
   "id": "b5861785",
   "metadata": {},
   "outputs": [],
   "source": []
  },
  {
   "cell_type": "markdown",
   "id": "62667cb9",
   "metadata": {},
   "source": [
    "# Creating Model with different functions"
   ]
  },
  {
   "cell_type": "code",
   "execution_count": 21,
   "id": "4c274b93",
   "metadata": {},
   "outputs": [],
   "source": [
    "def decision_tree_model(X_train, y_train):\n",
    "    # First using Decision Tree\n",
    "    \n",
    "    tree = DecisionTreeRegressor(random_state=1)\n",
    "    tree.fit(X_train, y_train)\n",
    "    y_prediction_tree = tree.predict(X_test)\n",
    "    \n",
    "    \n",
    "    # metrics of decision tree regressor\n",
    "    \n",
    "    MeanAbErr_tree = mean_absolute_error(y_test, y_prediction_tree)\n",
    "    MeanSqErr_tree= metrics.mean_squared_error(y_test, y_prediction_tree)\n",
    "    RootMeanSqErr_tree= np.sqrt(metrics.mean_squared_error(y_test, y_prediction_tree))\n",
    "    \n",
    "    print('Decision Tree: ', r2_score(y_test,y_prediction_tree))\n",
    "    print('Mean Absolute Error:', MeanAbErr_tree)\n",
    "    print('Mean Square Error:', MeanSqErr_tree)\n",
    "    print('Root Mean Square Error:', RootMeanSqErr_tree)\n",
    "    \n",
    "    # Visualizing\n",
    "    \n",
    "    plt.figure(figsize=(15,8))\n",
    "    plt.scatter(y_test,y_prediction_tree,cmap='Paired',c='blue')\n",
    "    plt.yscale('log')\n",
    "    plt.xscale('log')\n",
    "\n",
    "    p1 = max(max(y_prediction_tree), max(y_test))\n",
    "    p2 = min(min(y_prediction_tree), min(y_test))\n",
    "    plt.plot([p1, p2], [p1, p2], 'b-')\n",
    "    plt.xlabel('True Values', fontsize=15)\n",
    "    plt.ylabel('Predictions', fontsize=15)\n",
    "    plt.axis('equal')\n",
    "    plt.show()\n"
   ]
  },
  {
   "cell_type": "code",
   "execution_count": 22,
   "id": "f1dfbc90",
   "metadata": {},
   "outputs": [
    {
     "name": "stdout",
     "output_type": "stream",
     "text": [
      "Decision Tree:  0.7661696898489476\n",
      "Mean Absolute Error: 26753.23287671233\n",
      "Mean Square Error: 1631689828.3835616\n",
      "Root Mean Square Error: 40394.180625228204\n"
     ]
    },
    {
     "data": {
      "image/png": "[encoded data removed]",
      "text/plain": [
       "<Figure size 1080x576 with 1 Axes>"
      ]
     },
     "metadata": {},
     "output_type": "display_data"
    }
   ],
   "source": [
    "decision_tree_model(X_train, y_train)"
   ]
  },
  {
   "cell_type": "code",
   "execution_count": 23,
   "id": "911fe710",
   "metadata": {},
   "outputs": [],
   "source": [
    "def rand_forest(X_train, y_train):\n",
    "    #using RandomForestRegressor\n",
    "    \n",
    "    forest = RandomForestRegressor(n_estimators=100, random_state=0)\n",
    "    forest.fit(X_train, y_train)\n",
    "    y_prediction_forest = forest.predict(X_test)\n",
    "    \n",
    "    # metrics of random forest \n",
    "    \n",
    "    MeanAbErr_tree = mean_absolute_error(y_test, y_prediction_forest)\n",
    "    MeanSqErr_tree= metrics.mean_squared_error(y_test, y_prediction_forest)\n",
    "    RootMeanSqErr_tree= np.sqrt(metrics.mean_squared_error(y_test, y_prediction_forest))\n",
    "    \n",
    "    # Printing\n",
    "    \n",
    "    print('Random Forest Regressor: ', r2_score(y_test,y_prediction_forest))\n",
    "    print('Mean Absolute Error:', MeanAbErr_tree)\n",
    "    print('Mean Square Error:', MeanSqErr_tree)\n",
    "    print('Root Mean Square Error:', RootMeanSqErr_tree)\n",
    "    \n",
    "    # Visualizing\n",
    "    \n",
    "    plt.figure(figsize=(15,8))\n",
    "    plt.scatter(y_test,y_prediction_forest,cmap='Paired',c='brown')\n",
    "    plt.yscale('log')\n",
    "    plt.xscale('log')\n",
    "\n",
    "    p1 = max(max(y_prediction_forest), max(y_test))\n",
    "    p2 = min(min(y_prediction_forest), min(y_test))\n",
    "    plt.plot([p1, p2], [p1, p2], 'b-')\n",
    "    plt.xlabel('True Values', fontsize=15)\n",
    "    plt.ylabel('Predictions', fontsize=15)\n",
    "    plt.axis('equal')\n",
    "    plt.show()"
   ]
  },
  {
   "cell_type": "code",
   "execution_count": 24,
   "id": "5a69f6a8",
   "metadata": {},
   "outputs": [
    {
     "name": "stdout",
     "output_type": "stream",
     "text": [
      "Random Forest Regressor:  0.8938945468323075\n",
      "Mean Absolute Error: 17137.108196347035\n",
      "Mean Square Error: 740413800.7511126\n",
      "Root Mean Square Error: 27210.54576356587\n"
     ]
    },
    {
     "data": {
      "image/png": "[encoded data removed]",
      "text/plain": [
       "<Figure size 1080x576 with 1 Axes>"
      ]
     },
     "metadata": {},
     "output_type": "display_data"
    }
   ],
   "source": [
    "rand_forest(X_train, y_train)"
   ]
  },
  {
   "cell_type": "code",
   "execution_count": 25,
   "id": "8c74ac53",
   "metadata": {},
   "outputs": [],
   "source": [
    "def knnreg(X_train, y_train):\n",
    "    # using knn Regressor\n",
    "    \n",
    "    knn = neighbors.KNeighborsRegressor()\n",
    "    knn.fit(X_train, y_train)\n",
    "    y_prediction_knn = knn.predict(X_test)\n",
    "    \n",
    "    # metrics of knn regressor\n",
    "    \n",
    "    MeanAbErr_tree = mean_absolute_error(y_test, y_prediction_knn)\n",
    "    MeanSqErr_tree= metrics.mean_squared_error(y_test, y_prediction_knn)\n",
    "    RootMeanSqErr_tree= np.sqrt(metrics.mean_squared_error(y_test, y_prediction_knn))\n",
    "    \n",
    "    # Printing\n",
    "    \n",
    "    print('Knn neighbors Regressor: ', r2_score(y_test,y_prediction_knn))\n",
    "    print('Mean Absolute Error:', MeanAbErr_tree)\n",
    "    print('Mean Square Error:', MeanSqErr_tree)\n",
    "    print('Root Mean Square Error:', RootMeanSqErr_tree)\n",
    "    \n",
    "    # Visualizing\n",
    "    \n",
    "    plt.figure(figsize=(15,8))\n",
    "    plt.scatter(y_test,y_prediction_knn,cmap='Paired',c='green')\n",
    "    plt.yscale('log')\n",
    "    plt.xscale('log')\n",
    "\n",
    "    p1 = max(max(y_prediction_knn), max(y_test))\n",
    "    p2 = min(min(y_prediction_knn), min(y_test))\n",
    "    plt.plot([p1, p2], [p1, p2], 'b-')\n",
    "    plt.xlabel('True Values', fontsize=15)\n",
    "    plt.ylabel('Predictions', fontsize=15)\n",
    "    plt.axis('equal')\n",
    "    plt.show()"
   ]
  },
  {
   "cell_type": "code",
   "execution_count": 26,
   "id": "7fefb964",
   "metadata": {},
   "outputs": [
    {
     "name": "stdout",
     "output_type": "stream",
     "text": [
      "Knn neighbors Regressor:  0.6748692476534716\n",
      "Mean Absolute Error: 29896.73652968037\n",
      "Mean Square Error: 2268792874.4388127\n",
      "Root Mean Square Error: 47631.847270904924\n"
     ]
    },
    {
     "data": {
      "image/png": "[encoded data removed]",
      "text/plain": [
       "<Figure size 1080x576 with 1 Axes>"
      ]
     },
     "metadata": {},
     "output_type": "display_data"
    }
   ],
   "source": [
    "knnreg(X_train, y_train)"
   ]
  },
  {
   "cell_type": "code",
   "execution_count": 27,
   "id": "0ea2338f",
   "metadata": {},
   "outputs": [],
   "source": [
    "def xboost(X_train, y_train):\n",
    "    # using xgboost regressor\n",
    "    \n",
    "    xgboost = XGBRegressor()\n",
    "    xgboost.fit(X_train, y_train)\n",
    "    y_pred_xgboost = xgboost.predict(X_test)\n",
    "    \n",
    "    # metrics of xgboost regressor\n",
    "    \n",
    "    MeanAbErr_tree = mean_absolute_error(y_test, y_pred_xgboost)\n",
    "    MeanSqErr_tree= metrics.mean_squared_error(y_test, y_pred_xgboost)\n",
    "    RootMeanSqErr_tree= np.sqrt(metrics.mean_squared_error(y_test, y_pred_xgboost))\n",
    "    \n",
    "    # Printing\n",
    "    \n",
    "    print('XGBoost Regressor: ', r2_score(y_test,y_pred_xgboost))\n",
    "    print('Mean Absolute Error:', MeanAbErr_tree)\n",
    "    print('Mean Square Error:', MeanSqErr_tree)\n",
    "    print('Root Mean Square Error:', RootMeanSqErr_tree)\n",
    "    \n",
    "    # Visualizing\n",
    "    \n",
    "    plt.figure(figsize=(15,8))\n",
    "    plt.scatter(y_test,y_pred_xgboost,cmap='Paired',c='crimson')\n",
    "    plt.yscale('log')\n",
    "    plt.xscale('log')\n",
    "\n",
    "    p1 = max(max(y_pred_xgboost), max(y_test))\n",
    "    p2 = min(min(y_pred_xgboost), min(y_test))\n",
    "    plt.plot([p1, p2], [p1, p2], 'b-')\n",
    "    plt.xlabel('True Values', fontsize=15)\n",
    "    plt.ylabel('Predictions', fontsize=15)\n",
    "    plt.axis('equal')\n",
    "    plt.show()"
   ]
  },
  {
   "cell_type": "code",
   "execution_count": 28,
   "id": "7d546d4f",
   "metadata": {},
   "outputs": [
    {
     "name": "stdout",
     "output_type": "stream",
     "text": [
      "XGBoost Regressor:  0.908909238086754\n",
      "Mean Absolute Error: 16700.602739726026\n",
      "Mean Square Error: 635639877.3860298\n",
      "Root Mean Square Error: 25211.899519592527\n"
     ]
    },
    {
     "data": {
      "image/png": "[encoded data removed]",
      "text/plain": [
       "<Figure size 1080x576 with 1 Axes>"
      ]
     },
     "metadata": {},
     "output_type": "display_data"
    }
   ],
   "source": [
    "xboost(X_train, y_train)"
   ]
  },
  {
   "cell_type": "code",
   "execution_count": 29,
   "id": "0bb34f19",
   "metadata": {},
   "outputs": [],
   "source": [
    "def linear_reg(X_train, y_train):\n",
    "    # using Linear regressor\n",
    "    \n",
    "    lin = LinearRegression()\n",
    "    lin.fit(X_train, y_train)\n",
    "    y_pred_linear = lin.predict(X_test)\n",
    "    \n",
    "    # metrics of linear regressor\n",
    "    \n",
    "    MeanAbErr_tree = mean_absolute_error(y_test, y_pred_linear)\n",
    "    MeanSqErr_tree= metrics.mean_squared_error(y_test, y_pred_linear)\n",
    "    RootMeanSqErr_tree= np.sqrt(metrics.mean_squared_error(y_test, y_pred_linear))\n",
    "    \n",
    "    # Printing\n",
    "    \n",
    "    print('Linear Regressor: ', r2_score(y_test,y_pred_linear))\n",
    "    print('Mean Absolute Error:', MeanAbErr_tree)\n",
    "    print('Mean Square Error:', MeanSqErr_tree)\n",
    "    print('Root Mean Square Error:', RootMeanSqErr_tree)\n",
    "    \n",
    "    # Visualizing\n",
    "    \n",
    "    plt.figure(figsize=(15,8))\n",
    "    plt.scatter(y_test,y_pred_linear,cmap='Paired')\n",
    "    plt.yscale('log')\n",
    "    plt.xscale('log')\n",
    "\n",
    "    p1 = max(max(y_pred_linear), max(y_test))\n",
    "    p2 = min(min(y_pred_linear), min(y_test))\n",
    "    plt.plot([p1, p2], [p1, p2], 'b-')\n",
    "    plt.xlabel('True Values', fontsize=15)\n",
    "    plt.ylabel('Predictions', fontsize=15)\n",
    "    plt.axis('equal')\n",
    "    plt.show()"
   ]
  },
  {
   "cell_type": "code",
   "execution_count": 30,
   "id": "5f827297",
   "metadata": {},
   "outputs": [
    {
     "name": "stdout",
     "output_type": "stream",
     "text": [
      "Linear Regressor:  0.8445932522822595\n",
      "Mean Absolute Error: 21821.475413174285\n",
      "Mean Square Error: 1084442856.6570344\n",
      "Root Mean Square Error: 32930.87998607135\n"
     ]
    },
    {
     "data": {
      "image/png": "[encoded data removed]",
      "text/plain": [
       "<Figure size 1080x576 with 1 Axes>"
      ]
     },
     "metadata": {},
     "output_type": "display_data"
    }
   ],
   "source": [
    "linear_reg(X_train, y_train)"
   ]
  },
  {
   "cell_type": "markdown",
   "id": "744da8b5",
   "metadata": {},
   "source": [
    "**XGBoost and Random Forest Regressor are the best predictors with lowest errors.\n",
    "But Im going to take XGBoost model for the submission ****"
   ]
  },
  {
   "cell_type": "code",
   "execution_count": 31,
   "id": "5ceffb84",
   "metadata": {},
   "outputs": [
    {
     "data": {
      "text/plain": [
       "(438,)"
      ]
     },
     "execution_count": 31,
     "metadata": {},
     "output_type": "execute_result"
    }
   ],
   "source": [
    "xgboost = XGBRegressor()\n",
    "xgboost.fit(X_train, y_train)\n",
    "y_pred_xgboost = xgboost.predict(X_test)\n",
    "y_pred_xgboost.shape"
   ]
  },
  {
   "cell_type": "code",
   "execution_count": 32,
   "id": "b590562f",
   "metadata": {},
   "outputs": [
    {
     "data": {
      "text/plain": [
       "(1459, 80)"
      ]
     },
     "execution_count": 32,
     "metadata": {},
     "output_type": "execute_result"
    }
   ],
   "source": [
    "df1 = pd.read_csv('test.csv')\n",
    "\n",
    "df1.shape"
   ]
  },
  {
   "cell_type": "code",
   "execution_count": 33,
   "id": "42b8c7eb",
   "metadata": {},
   "outputs": [],
   "source": [
    "id_test = df1['Id']\n",
    "df1 = pd.DataFrame(id_test, columns=['Id'])"
   ]
  },
  {
   "cell_type": "code",
   "execution_count": 34,
   "id": "28be653d",
   "metadata": {},
   "outputs": [],
   "source": [
    "prediction = pd.DataFrame(y_pred_xgboost, columns=[\"SalePrice\"])"
   ]
  },
  {
   "cell_type": "code",
   "execution_count": 35,
   "id": "8d491876",
   "metadata": {},
   "outputs": [],
   "source": [
    "output = pd.concat([id_test, prediction],axis=1)"
   ]
  },
  {
   "cell_type": "code",
   "execution_count": 36,
   "id": "87513955",
   "metadata": {},
   "outputs": [
    {
     "data": {
      "text/html": [
       "<div>\n",
       "<style scoped>\n",
       "    .dataframe tbody tr th:only-of-type {\n",
       "        vertical-align: middle;\n",
       "    }\n",
       "\n",
       "    .dataframe tbody tr th {\n",
       "        vertical-align: top;\n",
       "    }\n",
       "\n",
       "    .dataframe thead th {\n",
       "        text-align: right;\n",
       "    }\n",
       "</style>\n",
       "<table border=\"1\" class=\"dataframe\">\n",
       "  <thead>\n",
       "    <tr style=\"text-align: right;\">\n",
       "      <th></th>\n",
       "      <th>Id</th>\n",
       "      <th>SalePrice</th>\n",
       "    </tr>\n",
       "  </thead>\n",
       "  <tbody>\n",
       "    <tr>\n",
       "      <th>0</th>\n",
       "      <td>1461</td>\n",
       "      <td>140287.671875</td>\n",
       "    </tr>\n",
       "    <tr>\n",
       "      <th>1</th>\n",
       "      <td>1462</td>\n",
       "      <td>362818.937500</td>\n",
       "    </tr>\n",
       "    <tr>\n",
       "      <th>2</th>\n",
       "      <td>1463</td>\n",
       "      <td>115460.523438</td>\n",
       "    </tr>\n",
       "    <tr>\n",
       "      <th>3</th>\n",
       "      <td>1464</td>\n",
       "      <td>155726.703125</td>\n",
       "    </tr>\n",
       "    <tr>\n",
       "      <th>4</th>\n",
       "      <td>1465</td>\n",
       "      <td>310617.468750</td>\n",
       "    </tr>\n",
       "  </tbody>\n",
       "</table>\n",
       "</div>"
      ],
      "text/plain": [
       "     Id      SalePrice\n",
       "0  1461  140287.671875\n",
       "1  1462  362818.937500\n",
       "2  1463  115460.523438\n",
       "3  1464  155726.703125\n",
       "4  1465  310617.468750"
      ]
     },
     "execution_count": 36,
     "metadata": {},
     "output_type": "execute_result"
    }
   ],
   "source": [
    "output.head()"
   ]
  },
  {
   "cell_type": "code",
   "execution_count": null,
   "id": "b301a6d0",
   "metadata": {},
   "outputs": [],
   "source": []
  },
  {
   "cell_type": "code",
   "execution_count": null,
   "id": "71ae0bc0",
   "metadata": {},
   "outputs": [],
   "source": []
  }
 ],
 "metadata": {
  "kernelspec": {
   "display_name": "Python 3 (ipykernel)",
   "language": "python",
   "name": "python3"
  },
  "language_info": {
   "codemirror_mode": {
    "name": "ipython",
    "version": 3
   },
   "file_extension": ".py",
   "mimetype": "text/x-python",
   "name": "python",
   "nbconvert_exporter": "python",
   "pygments_lexer": "ipython3",
   "version": "3.9.12"
  }
 },
 "nbformat": 4,
 "nbformat_minor": 5
}
